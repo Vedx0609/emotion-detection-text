{
 "cells": [
  {
   "cell_type": "code",
   "execution_count": 34,
   "id": "2cb50554-18af-4439-819e-810720f691f0",
   "metadata": {},
   "outputs": [],
   "source": [
    "import pandas as pd\n",
    "import numpy as np\n",
    "import re\n",
    "import nltk\n",
    "import matplotlib.pyplot as plt\n",
    "import seaborn as sns\n",
    "import string\n",
    "from nltk.corpus import stopwords , wordnet\n",
    "from nltk.tokenize import word_tokenize\n",
    "from nltk.stem import WordNetLemmatizer\n",
    "\n",
    "from spellchecker import SpellChecker\n",
    "import string\n",
    "import re\n",
    "\n",
    "from sklearn.model_selection import train_test_split\n",
    "from sklearn.preprocessing import LabelEncoder\n",
    "from keras.preprocessing.sequence import pad_sequences\n",
    "from nltk.corpus import stopwords\n",
    "from nltk.stem import WordNetLemmatizer\n",
    "from sklearn.model_selection import train_test_split\n",
    "from sklearn.preprocessing import LabelEncoder\n",
    "from tensorflow import keras\n",
    "from keras.preprocessing.sequence import pad_sequences\n",
    "from keras.models import Sequential\n",
    "from keras.layers import Embedding, LSTM, Dense\n",
    "from tensorflow.keras.preprocessing.text import Tokenizer\n",
    "\n"
   ]
  },
  {
   "cell_type": "code",
   "execution_count": 35,
   "id": "6c308ae5",
   "metadata": {},
   "outputs": [
    {
     "name": "stderr",
     "output_type": "stream",
     "text": [
      "[nltk_data] Downloading package stopwords to\n",
      "[nltk_data]     C:\\Users\\vedan\\AppData\\Roaming\\nltk_data...\n",
      "[nltk_data]   Package stopwords is already up-to-date!\n",
      "[nltk_data] Downloading package wordnet to\n",
      "[nltk_data]     C:\\Users\\vedan\\AppData\\Roaming\\nltk_data...\n",
      "[nltk_data]   Package wordnet is already up-to-date!\n"
     ]
    }
   ],
   "source": [
    "nltk.download('stopwords')\n",
    "nltk.download('wordnet')\n",
    "stop_words = set(stopwords.words('english'))\n"
   ]
  },
  {
   "cell_type": "code",
   "execution_count": 36,
   "id": "362ea8cb",
   "metadata": {},
   "outputs": [
    {
     "data": {
      "text/html": [
       "<div>\n",
       "<style scoped>\n",
       "    .dataframe tbody tr th:only-of-type {\n",
       "        vertical-align: middle;\n",
       "    }\n",
       "\n",
       "    .dataframe tbody tr th {\n",
       "        vertical-align: top;\n",
       "    }\n",
       "\n",
       "    .dataframe thead th {\n",
       "        text-align: right;\n",
       "    }\n",
       "</style>\n",
       "<table border=\"1\" class=\"dataframe\">\n",
       "  <thead>\n",
       "    <tr style=\"text-align: right;\">\n",
       "      <th></th>\n",
       "      <th>Emotions</th>\n",
       "      <th>Statements</th>\n",
       "    </tr>\n",
       "  </thead>\n",
       "  <tbody>\n",
       "    <tr>\n",
       "      <th>0</th>\n",
       "      <td>fear</td>\n",
       "      <td>Every time I imagine that someone I love or I ...</td>\n",
       "    </tr>\n",
       "    <tr>\n",
       "      <th>1</th>\n",
       "      <td>anger</td>\n",
       "      <td>When I had been obviously unjustly treated and...</td>\n",
       "    </tr>\n",
       "    <tr>\n",
       "      <th>2</th>\n",
       "      <td>sadness</td>\n",
       "      <td>When I think about the short time that we live...</td>\n",
       "    </tr>\n",
       "    <tr>\n",
       "      <th>3</th>\n",
       "      <td>disgust</td>\n",
       "      <td>At a gathering I found myself involuntarily si...</td>\n",
       "    </tr>\n",
       "    <tr>\n",
       "      <th>4</th>\n",
       "      <td>shame</td>\n",
       "      <td>When I realized that I was directing the feeli...</td>\n",
       "    </tr>\n",
       "  </tbody>\n",
       "</table>\n",
       "</div>"
      ],
      "text/plain": [
       "  Emotions                                         Statements\n",
       "0     fear  Every time I imagine that someone I love or I ...\n",
       "1    anger  When I had been obviously unjustly treated and...\n",
       "2  sadness  When I think about the short time that we live...\n",
       "3  disgust  At a gathering I found myself involuntarily si...\n",
       "4    shame  When I realized that I was directing the feeli..."
      ]
     },
     "execution_count": 36,
     "metadata": {},
     "output_type": "execute_result"
    }
   ],
   "source": [
    "initial_dataset = pd.read_csv('isear.csv')\n",
    "initial_dataset.head()"
   ]
  },
  {
   "cell_type": "code",
   "execution_count": 37,
   "id": "cd74d429",
   "metadata": {},
   "outputs": [
    {
     "name": "stdout",
     "output_type": "stream",
     "text": [
      "Emotions\n",
      "anger      1094\n",
      "sadness    1094\n",
      "disgust    1094\n",
      "shame      1094\n",
      "fear       1093\n",
      "guilt      1091\n",
      "joy        1091\n",
      "Name: count, dtype: int64\n",
      "Total entries in the dataset : 7651\n"
     ]
    }
   ],
   "source": [
    "# Fetching all the emotions and it's count present in the dataset\n",
    "emotions = initial_dataset['Emotions'].value_counts()\n",
    "print(emotions)\n",
    "print(f\"Total entries in the dataset : {emotions.sum()}\")"
   ]
  },
  {
   "cell_type": "code",
   "execution_count": 38,
   "id": "fb18d93b",
   "metadata": {},
   "outputs": [
    {
     "name": "stdout",
     "output_type": "stream",
     "text": [
      "Emotions      0\n",
      "Statements    0\n",
      "dtype: int64\n"
     ]
    }
   ],
   "source": [
    "# To check if there are any null values present in the dataset\n",
    "print(initial_dataset.isnull().sum())"
   ]
  },
  {
   "cell_type": "code",
   "execution_count": 39,
   "id": "2b83f95c",
   "metadata": {},
   "outputs": [
    {
     "name": "stdout",
     "output_type": "stream",
     "text": [
      "163\n",
      "Emotions  Statements                                                                     \n",
      "shame     [ No response.]                                                                    20\n",
      "guilt     [ No response.]                                                                    13\n",
      "disgust   [ No response.]                                                                    12\n",
      "sadness   [ No response.]                                                                    11\n",
      "          When my grandfather died.                                                           7\n",
      "anger     [ No response.]                                                                     7\n",
      "sadness   When my grandmother died.                                                           5\n",
      "fear      [ No response.]                                                                     4\n",
      "shame     Not doing well in the examn.                                                        3\n",
      "sadness   When my grandmother passed away.                                                    3\n",
      "joy       [ No response.]                                                                     3\n",
      "sadness   My grandmother died.                                                                2\n",
      "joy       Getting into this university to do medicine.                                        2\n",
      "shame     Failing an examn.                                                                   2\n",
      "sadness   When my father died.                                                                2\n",
      "          When my dog died.                                                                   2\n",
      "joy       When I was admitted to the University.                                              2\n",
      "fear      Before the examn.                                                                   2\n",
      "guilt     NO RESPONSE.                                                                        2\n",
      "sadness   When my father passed away.                                                         1\n",
      "shame     [ I have never felt this emotion.]                                                  1\n",
      "          [ Do not know.]                                                                     1\n",
      "          When I failed the grade seven exams.                                                1\n",
      "fear      Watching a horror film.                                                             1\n",
      "shame     NO RESPONSE.                                                                        1\n",
      "guilt     I felt guilty when I lied to my parents.                                            1\n",
      "shame     Did not finish homework.                                                            1\n",
      "fear      Almost had a bicycle accident.                                                      1\n",
      "guilt     Not finishing homework in time.                                                     1\n",
      "sadness   When my grandmother died of cancer.                                                 1\n",
      "fear      Before an examn.                                                                    1\n",
      "sadness   When my girlfriend left me.                                                         1\n",
      "guilt     Not handing in homework in time.                                                    1\n",
      "joy       Going to a concert.                                                                 1\n",
      "guilt     Not handing in homeworks in time.                                                   1\n",
      "sadness   When my cousin passed away.                                                         1\n",
      "          The death of my grandmother.                                                        1\n",
      "          My mother's death.                                                                  1\n",
      "fear      Getting ill.                                                                        1\n",
      "guilt     [ I have never felt this emotion.]                                                  1\n",
      "joy       When my son was born.                                                               1\n",
      "disgust   I saw a program on T.V where they had to saw a skull for an        \\noperation.     1\n",
      "joy       When I was accepted at UNZA.                                                        1\n",
      "          When I passed the university entrance exam.                                         1\n",
      "          When I passed the B.A exams with first class results.                               1\n",
      "          When I passed an exam.                                                              1\n",
      "          Talking to a close friend.                                                          1\n",
      "fear      First time in anatomy.                                                              1\n",
      "Name: count, dtype: int64\n"
     ]
    }
   ],
   "source": [
    "# To check if there are any duplicate values present in the dataset\n",
    "print(initial_dataset[\"Statements\"].duplicated().sum())\n",
    "\n",
    "# Displaying all the duplicates present in the dataset\n",
    "duplicates = initial_dataset[initial_dataset.duplicated()]\n",
    "\n",
    "#Print all the unique duplicates present in the dataset\n",
    "print(duplicates.value_counts())"
   ]
  },
  {
   "cell_type": "code",
   "execution_count": 40,
   "id": "2a5123a1",
   "metadata": {},
   "outputs": [
    {
     "name": "stdout",
     "output_type": "stream",
     "text": [
      "Emotions      0\n",
      "Statements    0\n",
      "dtype: int64\n"
     ]
    }
   ],
   "source": [
    "null_responses = [\"[ No response.]\",\"[ Do not know.]\",\"NO RESPONSE.\",\"Doesn't apply.\",\"Does not apply.\",\"[ Can not think of anything just now.]\" , \"[ No description.]\" , \"[ Never felt the emotion.]\" , \"[ I have never felt this emotion.]\" , \"[ Never experienced.]\" , \"[ Never.]\" , \"[ Do not remember any incident.]\"]\n",
    "\n",
    "# Removing the rows containing null responses\n",
    "null_removed_dataset = initial_dataset[~initial_dataset['Statements'].isin(null_responses)]\n",
    "\n",
    "# To check if there are any null values present in the dataset\n",
    "print(null_removed_dataset.isnull().sum())"
   ]
  },
  {
   "cell_type": "code",
   "execution_count": 41,
   "id": "a98f1443",
   "metadata": {},
   "outputs": [
    {
     "name": "stdout",
     "output_type": "stream",
     "text": [
      "Emotions\n",
      "joy        1087\n",
      "fear       1085\n",
      "anger      1084\n",
      "sadness    1082\n",
      "disgust    1076\n",
      "guilt      1067\n",
      "shame      1063\n",
      "Name: count, dtype: int64\n",
      "Total entries in the dataset : 7544\n"
     ]
    }
   ],
   "source": [
    "# Fetching all the emotions and it's count present in the dataset\n",
    "updated_emotions = null_removed_dataset['Emotions'].value_counts()\n",
    "print(updated_emotions)\n",
    "print(f\"Total entries in the dataset : {updated_emotions.sum()}\")"
   ]
  },
  {
   "cell_type": "code",
   "execution_count": 42,
   "id": "f6ec6c47",
   "metadata": {},
   "outputs": [
    {
     "name": "stdout",
     "output_type": "stream",
     "text": [
      "68\n",
      "Emotions  Statements                                                                     \n",
      "sadness   When my grandfather died.                                                          7\n",
      "          When my grandmother died.                                                          5\n",
      "shame     Not doing well in the examn.                                                       3\n",
      "sadness   When my grandmother passed away.                                                   3\n",
      "          When my dog died.                                                                  2\n",
      "          When my father died.                                                               2\n",
      "joy       Getting into this university to do medicine.                                       2\n",
      "          When I was admitted to the University.                                             2\n",
      "shame     Failing an examn.                                                                  2\n",
      "fear      Before the examn.                                                                  2\n",
      "sadness   My grandmother died.                                                               2\n",
      "          When my grandmother died of cancer.                                                1\n",
      "joy       When my son was born.                                                              1\n",
      "sadness   When my girlfriend left me.                                                        1\n",
      "shame     Did not finish homework.                                                           1\n",
      "sadness   When my father passed away.                                                        1\n",
      "          When my cousin passed away.                                                        1\n",
      "          The death of my grandmother.                                                       1\n",
      "          My mother's death.                                                                 1\n",
      "disgust   I saw a program on T.V where they had to saw a skull for an        \\noperation.    1\n",
      "fear      Almost had a bicycle accident.                                                     1\n",
      "joy       When I was accepted at UNZA.                                                       1\n",
      "          When I passed the university entrance exam.                                        1\n",
      "          When I passed the B.A exams with first class results.                              1\n",
      "          When I passed an exam.                                                             1\n",
      "          Talking to a close friend.                                                         1\n",
      "          Going to a concert.                                                                1\n",
      "guilt     Not handing in homeworks in time.                                                  1\n",
      "          Not handing in homework in time.                                                   1\n",
      "          Not finishing homework in time.                                                    1\n",
      "          I felt guilty when I lied to my parents.                                           1\n",
      "fear      Watching a horror film.                                                            1\n",
      "          Getting ill.                                                                       1\n",
      "          First time in anatomy.                                                             1\n",
      "          Before an examn.                                                                   1\n",
      "shame     When I failed the grade seven exams.                                               1\n",
      "Name: count, dtype: int64\n"
     ]
    }
   ],
   "source": [
    "# To check if there are any duplicate values present in the dataset\n",
    "print(null_removed_dataset[\"Statements\"].duplicated().sum())\n",
    "\n",
    "# Displaying all the duplicates present in the dataset\n",
    "updated_duplicates = null_removed_dataset[null_removed_dataset.duplicated()]\n",
    "\n",
    "#Print all the unique duplicates present in the dataset\n",
    "print(updated_duplicates.value_counts())"
   ]
  },
  {
   "cell_type": "code",
   "execution_count": 43,
   "id": "55d4fd86",
   "metadata": {},
   "outputs": [
    {
     "name": "stdout",
     "output_type": "stream",
     "text": [
      "     Emotions                                         Statements\n",
      "715   sadness                        When my girlfriend left me.\n",
      "770   sadness                          When my grandmother died.\n",
      "1021  sadness                       The death of my grandmother.\n",
      "1266  sadness                          When my grandfather died.\n",
      "1345  sadness                When my grandmother died of cancer.\n",
      "1546  sadness                          When my grandmother died.\n",
      "2087  sadness                               When my father died.\n",
      "2277  sadness                          When my grandmother died.\n",
      "2506  sadness                                  When my dog died.\n",
      "2548  sadness                          When my grandmother died.\n",
      "2757  sadness                          When my grandfather died.\n",
      "2843      joy                              When my son was born.\n",
      "2899      joy             When I was admitted to the University.\n",
      "2950      joy             When I was admitted to the University.\n",
      "4176  sadness                          When my grandmother died.\n",
      "4187      joy                             When I passed an exam.\n",
      "4190  sadness                                  When my dog died.\n",
      "4299      joy        When I passed the university entrance exam.\n",
      "4567  sadness                          When my grandfather died.\n",
      "4893      joy                       When I was accepted at UNZA.\n",
      "4903  sadness                          When my grandfather died.\n",
      "5085  sadness                          When my grandfather died.\n",
      "5305  sadness                        When my father passed away.\n",
      "5312  sadness                   When my grandmother passed away.\n",
      "5335    shame               When I failed the grade seven exams.\n",
      "5340  sadness                          When my grandfather died.\n",
      "5386  sadness                          When my grandfather died.\n",
      "5439    shame                                  Failing an examn.\n",
      "5586  sadness                   When my grandmother passed away.\n",
      "5916    guilt           I felt guilty when I lied to my parents.\n",
      "5924      joy  When I passed the B.A exams with first class r...\n",
      "6540  sadness                               When my father died.\n",
      "6611  disgust  I saw a program on T.V where they had to saw a...\n",
      "6673  sadness                        When my cousin passed away.\n",
      "6781  sadness                   When my grandmother passed away.\n",
      "6823  sadness                               My grandmother died.\n",
      "6825    shame                           Did not finish homework.\n",
      "6874    shame                                  Failing an examn.\n",
      "6939     fear                                   Before an examn.\n",
      "6946     fear                     Almost had a bicycle accident.\n",
      "6966  sadness                               My grandmother died.\n",
      "6984      joy       Getting into this university to do medicine.\n",
      "7022  sadness                                 My mother's death.\n",
      "7033     fear                                  Before the examn.\n",
      "7053      joy                         Talking to a close friend.\n",
      "7054     fear                                       Getting ill.\n",
      "7093    shame                       Not doing well in the examn.\n",
      "7094    guilt                    Not finishing homework in time.\n",
      "7121    shame                       Not doing well in the examn.\n",
      "7136    guilt                  Not handing in homeworks in time.\n",
      "7151      joy                                Going to a concert.\n",
      "7166     fear                            Watching a horror film.\n",
      "7170    shame                       Not doing well in the examn.\n",
      "7178    guilt                   Not handing in homework in time.\n",
      "7200      joy       Getting into this university to do medicine.\n",
      "7201     fear                             First time in anatomy.\n",
      "7215     fear                                  Before the examn.\n"
     ]
    }
   ],
   "source": [
    "print(updated_duplicates)"
   ]
  },
  {
   "cell_type": "code",
   "execution_count": 44,
   "id": "97299ca5",
   "metadata": {},
   "outputs": [
    {
     "name": "stdout",
     "output_type": "stream",
     "text": [
      "Emotions\n",
      "joy        14.408802\n",
      "fear       14.382291\n",
      "anger      14.369035\n",
      "sadness    14.342524\n",
      "disgust    14.262990\n",
      "guilt      14.143690\n",
      "shame      14.090668\n",
      "Name: count, dtype: float64\n"
     ]
    },
    {
     "data": {
      "text/plain": [
       "<Axes: xlabel='Emotions', ylabel='count'>"
      ]
     },
     "execution_count": 44,
     "metadata": {},
     "output_type": "execute_result"
    },
    {
     "data": {
      "image/png": "[encoded data removed]",
      "text/plain": [
       "<Figure size 1000x500 with 1 Axes>"
      ]
     },
     "metadata": {},
     "output_type": "display_data"
    }
   ],
   "source": [
    "# Percentage of emotions present in the dataset\n",
    "emotions_percentage = updated_emotions/sum(updated_emotions)*100\n",
    "print(emotions_percentage)\n",
    "\n",
    "# Plot the emotions vs it's count as a bar plot and keep the scale of count from 1050 to 1100\n",
    "plt.figure(figsize=(10,5))\n",
    "plt.ylim(1050, 1100)\n",
    "sns.countplot(x='Emotions', data=null_removed_dataset)"
   ]
  },
  {
   "cell_type": "code",
   "execution_count": 45,
   "id": "5b0c17b9",
   "metadata": {},
   "outputs": [],
   "source": [
    "# Data Cleaning\n",
    "\n",
    "def convert_to_lower_case(text):\n",
    "    return text.lower()\n",
    "\n",
    "def remove_special_characters(text):\n",
    "    return re.sub(r'[^a-zA-Z0-9\\s]', '', text)\n",
    "\n",
    "def remove_punctuation(text):\n",
    "    return text.translate(str.maketrans('', '', string.punctuation))\n",
    "\n",
    "def remove_numbers(text):\n",
    "    return re.sub(r'\\d+', '', text)\n",
    "\n",
    "def remove_stop_words(text):\n",
    "    return ' '.join([word for word in str(text).split() if word not in stop_words])\n",
    "\n",
    "def get_wordnet_pos(word):\n",
    "    # Map POS tag to first character that the lemmatize() accepts\n",
    "    tag = nltk.pos_tag([word])[0][1][0].upper()\n",
    "    tag_dict = {\"J\": wordnet.ADJ,\n",
    "                \"N\": wordnet.NOUN,\n",
    "                \"V\": wordnet.VERB,\n",
    "                \"R\": wordnet.ADV}\n",
    "\n",
    "    return tag_dict.get(tag, wordnet.NOUN)\n",
    "\n",
    "def lemmatization(text):\n",
    "    lemmatizer = WordNetLemmatizer()\n",
    "    return ' '.join([lemmatizer.lemmatize(w, get_wordnet_pos(w)) for w in word_tokenize(text)])\n",
    "\n",
    "\n",
    "def cleaned_sentence(text):\n",
    "    # text = spell_check(text)\n",
    "    text = convert_to_lower_case(text)\n",
    "    text = remove_special_characters(text)\n",
    "    text = remove_punctuation(text)\n",
    "    text = remove_numbers(text)\n",
    "    text = remove_stop_words(text)\n",
    "    text = lemmatization(text)\n",
    "    return text\n",
    "\n"
   ]
  },
  {
   "cell_type": "code",
   "execution_count": 46,
   "id": "49e217f9",
   "metadata": {},
   "outputs": [
    {
     "name": "stderr",
     "output_type": "stream",
     "text": [
      "C:\\Users\\vedan\\AppData\\Local\\Temp\\ipykernel_42548\\1100354829.py:2: SettingWithCopyWarning: \n",
      "A value is trying to be set on a copy of a slice from a DataFrame.\n",
      "Try using .loc[row_indexer,col_indexer] = value instead\n",
      "\n",
      "See the caveats in the documentation: https://pandas.pydata.org/pandas-docs/stable/user_guide/indexing.html#returning-a-view-versus-a-copy\n",
      "  null_removed_dataset['Cleaned_Statements'] = null_removed_dataset['Statements'].apply(cleaned_sentence)\n"
     ]
    }
   ],
   "source": [
    "#apply preprocessing to the Statement column\n",
    "null_removed_dataset['Cleaned_Statements'] = null_removed_dataset['Statements'].apply(cleaned_sentence)"
   ]
  },
  {
   "cell_type": "code",
   "execution_count": 47,
   "id": "64165af2",
   "metadata": {},
   "outputs": [
    {
     "name": "stderr",
     "output_type": "stream",
     "text": [
      "C:\\Users\\vedan\\AppData\\Local\\Temp\\ipykernel_42548\\1078975077.py:3: SettingWithCopyWarning: \n",
      "A value is trying to be set on a copy of a slice from a DataFrame.\n",
      "Try using .loc[row_indexer,col_indexer] = value instead\n",
      "\n",
      "See the caveats in the documentation: https://pandas.pydata.org/pandas-docs/stable/user_guide/indexing.html#returning-a-view-versus-a-copy\n",
      "  null_removed_dataset['Encoded_Emotion'] = label_encoder.fit_transform(null_removed_dataset['Emotions'])\n"
     ]
    }
   ],
   "source": [
    "#label encoding for emotions\n",
    "label_encoder = LabelEncoder()\n",
    "null_removed_dataset['Encoded_Emotion'] = label_encoder.fit_transform(null_removed_dataset['Emotions'])"
   ]
  },
  {
   "cell_type": "code",
   "execution_count": 48,
   "id": "c65700b3",
   "metadata": {},
   "outputs": [],
   "source": [
    "#tokenizing words\n",
    "tokenizer = Tokenizer()\n",
    "tokenizer.fit_on_texts(null_removed_dataset['Cleaned_Statements'])\n",
    "X = tokenizer.texts_to_sequences(null_removed_dataset['Cleaned_Statements'])\n",
    "X = pad_sequences(X)"
   ]
  },
  {
   "cell_type": "code",
   "execution_count": 49,
   "id": "9b7ba1cf",
   "metadata": {},
   "outputs": [],
   "source": [
    "# train test split stuff\n",
    "X_train, X_test, y_train, y_test = train_test_split(X, null_removed_dataset['Encoded_Emotion'], test_size=0.2, random_state=42)"
   ]
  },
  {
   "cell_type": "code",
   "execution_count": 50,
   "id": "58367161",
   "metadata": {},
   "outputs": [],
   "source": [
    "#build the LSTM model\n",
    "model = Sequential()\n",
    "model.add(Embedding(input_dim=len(tokenizer.word_index)+1, output_dim=128))\n",
    "model.add(LSTM(units=128))\n",
    "model.add(Dense(units=len(null_removed_dataset['Emotions'].unique()), activation='softmax'))"
   ]
  },
  {
   "cell_type": "code",
   "execution_count": 51,
   "id": "786fc4ed",
   "metadata": {},
   "outputs": [],
   "source": [
    "model.compile(loss='sparse_categorical_crossentropy', optimizer='adam', metrics=['accuracy'])"
   ]
  },
  {
   "cell_type": "code",
   "execution_count": 52,
   "id": "e94abd14",
   "metadata": {},
   "outputs": [
    {
     "name": "stdout",
     "output_type": "stream",
     "text": [
      "Epoch 1/16\n",
      "\u001b[1m95/95\u001b[0m \u001b[32m━━━━━━━━━━━━━━━━━━━━\u001b[0m\u001b[37m\u001b[0m \u001b[1m12s\u001b[0m 93ms/step - accuracy: 0.2339 - loss: 1.9108 - val_accuracy: 0.4248 - val_loss: 1.5928\n",
      "Epoch 2/16\n",
      "\u001b[1m95/95\u001b[0m \u001b[32m━━━━━━━━━━━━━━━━━━━━\u001b[0m\u001b[37m\u001b[0m \u001b[1m10s\u001b[0m 101ms/step - accuracy: 0.5925 - loss: 1.2501 - val_accuracy: 0.5507 - val_loss: 1.2481\n",
      "Epoch 3/16\n",
      "\u001b[1m95/95\u001b[0m \u001b[32m━━━━━━━━━━━━━━━━━━━━\u001b[0m\u001b[37m\u001b[0m \u001b[1m10s\u001b[0m 106ms/step - accuracy: 0.7603 - loss: 0.7504 - val_accuracy: 0.5573 - val_loss: 1.2563\n",
      "Epoch 4/16\n",
      "\u001b[1m95/95\u001b[0m \u001b[32m━━━━━━━━━━━━━━━━━━━━\u001b[0m\u001b[37m\u001b[0m \u001b[1m10s\u001b[0m 108ms/step - accuracy: 0.8477 - loss: 0.4939 - val_accuracy: 0.5480 - val_loss: 1.4561\n",
      "Epoch 5/16\n",
      "\u001b[1m95/95\u001b[0m \u001b[32m━━━━━━━━━━━━━━━━━━━━\u001b[0m\u001b[37m\u001b[0m \u001b[1m10s\u001b[0m 107ms/step - accuracy: 0.8908 - loss: 0.3571 - val_accuracy: 0.5414 - val_loss: 1.5163\n",
      "Epoch 6/16\n",
      "\u001b[1m95/95\u001b[0m \u001b[32m━━━━━━━━━━━━━━━━━━━━\u001b[0m\u001b[37m\u001b[0m \u001b[1m10s\u001b[0m 104ms/step - accuracy: 0.9201 - loss: 0.2744 - val_accuracy: 0.5302 - val_loss: 1.7119\n",
      "Epoch 7/16\n",
      "\u001b[1m95/95\u001b[0m \u001b[32m━━━━━━━━━━━━━━━━━━━━\u001b[0m\u001b[37m\u001b[0m \u001b[1m10s\u001b[0m 106ms/step - accuracy: 0.9344 - loss: 0.2139 - val_accuracy: 0.5262 - val_loss: 1.8683\n",
      "Epoch 8/16\n",
      "\u001b[1m95/95\u001b[0m \u001b[32m━━━━━━━━━━━━━━━━━━━━\u001b[0m\u001b[37m\u001b[0m \u001b[1m10s\u001b[0m 106ms/step - accuracy: 0.9546 - loss: 0.1620 - val_accuracy: 0.5262 - val_loss: 1.9783\n",
      "Epoch 9/16\n",
      "\u001b[1m95/95\u001b[0m \u001b[32m━━━━━━━━━━━━━━━━━━━━\u001b[0m\u001b[37m\u001b[0m \u001b[1m11s\u001b[0m 115ms/step - accuracy: 0.9592 - loss: 0.1376 - val_accuracy: 0.5249 - val_loss: 2.1609\n",
      "Epoch 10/16\n",
      "\u001b[1m95/95\u001b[0m \u001b[32m━━━━━━━━━━━━━━━━━━━━\u001b[0m\u001b[37m\u001b[0m \u001b[1m11s\u001b[0m 116ms/step - accuracy: 0.9658 - loss: 0.1169 - val_accuracy: 0.5036 - val_loss: 2.3885\n",
      "Epoch 11/16\n",
      "\u001b[1m95/95\u001b[0m \u001b[32m━━━━━━━━━━━━━━━━━━━━\u001b[0m\u001b[37m\u001b[0m \u001b[1m11s\u001b[0m 113ms/step - accuracy: 0.9656 - loss: 0.1187 - val_accuracy: 0.5056 - val_loss: 2.3913\n",
      "Epoch 12/16\n",
      "\u001b[1m95/95\u001b[0m \u001b[32m━━━━━━━━━━━━━━━━━━━━\u001b[0m\u001b[37m\u001b[0m \u001b[1m11s\u001b[0m 116ms/step - accuracy: 0.9727 - loss: 0.0905 - val_accuracy: 0.5070 - val_loss: 2.5446\n",
      "Epoch 13/16\n",
      "\u001b[1m95/95\u001b[0m \u001b[32m━━━━━━━━━━━━━━━━━━━━\u001b[0m\u001b[37m\u001b[0m \u001b[1m10s\u001b[0m 102ms/step - accuracy: 0.9788 - loss: 0.0712 - val_accuracy: 0.4838 - val_loss: 2.5628\n",
      "Epoch 14/16\n",
      "\u001b[1m95/95\u001b[0m \u001b[32m━━━━━━━━━━━━━━━━━━━━\u001b[0m\u001b[37m\u001b[0m \u001b[1m10s\u001b[0m 108ms/step - accuracy: 0.9606 - loss: 0.1147 - val_accuracy: 0.4824 - val_loss: 2.8986\n",
      "Epoch 15/16\n",
      "\u001b[1m95/95\u001b[0m \u001b[32m━━━━━━━━━━━━━━━━━━━━\u001b[0m\u001b[37m\u001b[0m \u001b[1m10s\u001b[0m 109ms/step - accuracy: 0.9686 - loss: 0.0937 - val_accuracy: 0.4937 - val_loss: 2.8627\n",
      "Epoch 16/16\n",
      "\u001b[1m95/95\u001b[0m \u001b[32m━━━━━━━━━━━━━━━━━━━━\u001b[0m\u001b[37m\u001b[0m \u001b[1m10s\u001b[0m 104ms/step - accuracy: 0.9799 - loss: 0.0676 - val_accuracy: 0.4977 - val_loss: 3.0465\n"
     ]
    },
    {
     "data": {
      "text/plain": [
       "<keras.src.callbacks.history.History at 0x18f53272c60>"
      ]
     },
     "execution_count": 52,
     "metadata": {},
     "output_type": "execute_result"
    }
   ],
   "source": [
    "#train the dude\n",
    "model.fit(X_train, y_train, batch_size=64, epochs=16, validation_data=(X_test, y_test))"
   ]
  },
  {
   "cell_type": "code",
   "execution_count": 53,
   "id": "ee6a6b1a",
   "metadata": {},
   "outputs": [],
   "source": [
    "#predict sentiment/emotion\n",
    "def predict_sentiment(sentence):\n",
    "    cleaned_sentences = cleaned_sentence(sentence)\n",
    "    tokenized_sentence = tokenizer.texts_to_sequences([cleaned_sentences])\n",
    "    padded_sentence = pad_sequences(tokenized_sentence, maxlen=X.shape[1])\n",
    "    predicted_emotion = label_encoder.inverse_transform([np.argmax(model.predict(padded_sentence))])[0]\n",
    "    return predicted_emotion"
   ]
  },
  {
   "cell_type": "code",
   "execution_count": 54,
   "id": "dc0f4b6f",
   "metadata": {},
   "outputs": [
    {
     "name": "stdout",
     "output_type": "stream",
     "text": [
      "\u001b[1m1/1\u001b[0m \u001b[32m━━━━━━━━━━━━━━━━━━━━\u001b[0m\u001b[37m\u001b[0m \u001b[1m0s\u001b[0m 398ms/step\n",
      "Sentence: I stare at the blank wall\n",
      "Predicted Emotion: fear\n"
     ]
    }
   ],
   "source": [
    "input = \"I stare at the blank wall\"\n",
    "\n",
    "predicted_emotion = predict_sentiment(input)\n",
    "print(f\"Sentence: {input}\\nPredicted Emotion: {predicted_emotion}\")"
   ]
  },
  {
   "cell_type": "code",
   "execution_count": null,
   "id": "4751dd81",
   "metadata": {},
   "outputs": [],
   "source": []
  }
 ],
 "metadata": {
  "kernelspec": {
   "display_name": "Python 3",
   "language": "python",
   "name": "python3"
  },
  "language_info": {
   "codemirror_mode": {
    "name": "ipython",
    "version": 3
   },
   "file_extension": ".py",
   "mimetype": "text/x-python",
   "name": "python",
   "nbconvert_exporter": "python",
   "pygments_lexer": "ipython3",
   "version": "3.12.2"
  }
 },
 "nbformat": 4,
 "nbformat_minor": 5
}
